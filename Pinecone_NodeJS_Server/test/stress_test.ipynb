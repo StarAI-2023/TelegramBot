{
 "cells": [
  {
   "cell_type": "code",
   "execution_count": 10,
   "metadata": {},
   "outputs": [
    {
     "name": "stdout",
     "output_type": "stream",
     "text": [
      "Total time: 17.80784894101089 seconds\n",
      "Successful requests: 1000\n",
      "Slow requests: 905\n"
     ]
    }
   ],
   "source": [
    "# stress test for search api \n",
    "import asyncio\n",
    "import aiohttp\n",
    "import time\n",
    "import json\n",
    "\n",
    "search_url = \"http://localhost:3000/search\"\n",
    "\n",
    "search_payload = {\n",
    "    \"indexName\": \"eugenia\",\n",
    "    \"query\": \"Taylor switft\",\n",
    "    \"nameSpace\": \"6041305450\",\n",
    "    \"password\": \"fhawjthaj-hthjerahr234oru0ufhgarp324ytp98ayfpsdayfuh4wiu\"\n",
    "}\n",
    "\n",
    "headers = {\n",
    "    'Content-Type': 'application/json'\n",
    "}\n",
    "\n",
    "async def make_request(session, url, headers, payload):\n",
    "    start_time = time.perf_counter()\n",
    "    async with session.post(url, headers=headers, data=json.dumps(payload)) as response:\n",
    "        end_time = time.perf_counter()\n",
    "        elapsed_time = end_time - start_time\n",
    "        text = await response.text()\n",
    "        # print(elapsed_time)\n",
    "        return response.status == 200, elapsed_time > 3\n",
    "\n",
    "async def main():\n",
    "    start_time = time.perf_counter()\n",
    "    successful_requests = 0\n",
    "    slow_requests = 0\n",
    "    async with aiohttp.ClientSession() as session:\n",
    "        tasks = []\n",
    "        for _ in range(1000):\n",
    "            tasks.append(make_request(session, search_url, headers, search_payload))\n",
    "        results = await asyncio.gather(*tasks)\n",
    "        for was_successful, was_slow in results:\n",
    "            if was_successful:\n",
    "                successful_requests += 1\n",
    "            if was_slow:\n",
    "                slow_requests += 1\n",
    "                \n",
    "    end_time = time.perf_counter()\n",
    "    print(f'Total time: {end_time - start_time} seconds')\n",
    "    print(f'Successful requests: {successful_requests}')\n",
    "    print(f'Slow requests: {slow_requests}')\n",
    "\n",
    "import nest_asyncio\n",
    "nest_asyncio.apply()\n",
    "\n",
    "loop = asyncio.get_event_loop()\n",
    "loop.run_until_complete(main())"
   ]
  },
  {
   "cell_type": "code",
   "execution_count": 11,
   "metadata": {},
   "outputs": [
    {
     "name": "stdout",
     "output_type": "stream",
     "text": [
      "Total time: 2.9801556390011683 seconds\n",
      "Successful requests: 200\n",
      "Slow requests: 0\n"
     ]
    }
   ],
   "source": [
    "# stress test for upsert api\n",
    "import asyncio\n",
    "import aiohttp\n",
    "import time\n",
    "import json\n",
    "\n",
    "upsert_url = \"http://localhost:3000/upsert\"\n",
    "\n",
    "upsert_payload = {\n",
    "    \"indexName\": \"eugenia\",\n",
    "    \"nameSpace\": \"6041305450\",\n",
    "    \"chunkSize\": 2000, \n",
    "    \"password\": \"fhawjthaj-hthjerahr234oru0ufhgarp324ytp98ayfpsdayfuh4wiu\",\n",
    "    \"document\": {\n",
    "        \"memoryText\": \"Taylor Switft fucked a dog\"\n",
    "    }\n",
    "}\n",
    "headers = {\n",
    "    'Content-Type': 'application/json'\n",
    "}\n",
    "\n",
    "async def make_request(session, url, headers, payload):\n",
    "    start_time = time.perf_counter()\n",
    "    async with session.post(url, headers=headers, data=json.dumps(payload)) as response:\n",
    "        end_time = time.perf_counter()\n",
    "        elapsed_time = end_time - start_time\n",
    "        text = await response.text()\n",
    "        # print(elapsed_time)\n",
    "        return response.status == 200, elapsed_time > 3\n",
    "\n",
    "async def main():\n",
    "    start_time = time.perf_counter()\n",
    "    successful_requests = 0\n",
    "    slow_requests = 0\n",
    "    async with aiohttp.ClientSession() as session:\n",
    "        tasks = []\n",
    "        for _ in range(200):\n",
    "            tasks.append(make_request(session, upsert_url, headers, upsert_payload))\n",
    "        results = await asyncio.gather(*tasks)\n",
    "        for was_successful, was_slow in results:\n",
    "            if was_successful:\n",
    "                successful_requests += 1\n",
    "            if was_slow:\n",
    "                slow_requests += 1\n",
    "                \n",
    "    end_time = time.perf_counter()\n",
    "    print(f'Total time: {end_time - start_time} seconds')\n",
    "    print(f'Successful requests: {successful_requests}')\n",
    "    print(f'Slow requests: {slow_requests}')\n",
    "\n",
    "import nest_asyncio\n",
    "nest_asyncio.apply()\n",
    "\n",
    "loop = asyncio.get_event_loop()\n",
    "loop.run_until_complete(main())"
   ]
  },
  {
   "cell_type": "code",
   "execution_count": null,
   "metadata": {},
   "outputs": [],
   "source": []
  }
 ],
 "metadata": {
  "kernelspec": {
   "display_name": "X",
   "language": "python",
   "name": "python3"
  },
  "language_info": {
   "codemirror_mode": {
    "name": "ipython",
    "version": 3
   },
   "file_extension": ".py",
   "mimetype": "text/x-python",
   "name": "python",
   "nbconvert_exporter": "python",
   "pygments_lexer": "ipython3",
   "version": "3.10.9"
  },
  "orig_nbformat": 4
 },
 "nbformat": 4,
 "nbformat_minor": 2
}
