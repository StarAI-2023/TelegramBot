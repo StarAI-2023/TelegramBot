{
 "cells": [
  {
   "cell_type": "code",
   "execution_count": 14,
   "metadata": {},
   "outputs": [
    {
     "name": "stdout",
     "output_type": "stream",
     "text": [
      "Requirement already satisfied: twitch-dl in /Users/k.v.stan/opt/anaconda3/envs/X/lib/python3.10/site-packages (2.1.3)\n",
      "Requirement already satisfied: httpx<1.0.0,>=0.17.0 in /Users/k.v.stan/opt/anaconda3/envs/X/lib/python3.10/site-packages (from twitch-dl) (0.23.3)\n",
      "Requirement already satisfied: m3u8<4.0.0,>=1.0.0 in /Users/k.v.stan/opt/anaconda3/envs/X/lib/python3.10/site-packages (from twitch-dl) (3.5.0)\n",
      "Requirement already satisfied: certifi in /Users/k.v.stan/opt/anaconda3/envs/X/lib/python3.10/site-packages (from httpx<1.0.0,>=0.17.0->twitch-dl) (2022.12.7)\n",
      "Requirement already satisfied: httpcore<0.17.0,>=0.15.0 in /Users/k.v.stan/opt/anaconda3/envs/X/lib/python3.10/site-packages (from httpx<1.0.0,>=0.17.0->twitch-dl) (0.16.3)\n",
      "Requirement already satisfied: rfc3986[idna2008]<2,>=1.3 in /Users/k.v.stan/opt/anaconda3/envs/X/lib/python3.10/site-packages (from httpx<1.0.0,>=0.17.0->twitch-dl) (1.5.0)\n",
      "Requirement already satisfied: sniffio in /Users/k.v.stan/opt/anaconda3/envs/X/lib/python3.10/site-packages (from httpx<1.0.0,>=0.17.0->twitch-dl) (1.3.0)\n",
      "Requirement already satisfied: iso8601 in /Users/k.v.stan/opt/anaconda3/envs/X/lib/python3.10/site-packages (from m3u8<4.0.0,>=1.0.0->twitch-dl) (2.0.0)\n",
      "Requirement already satisfied: h11<0.15,>=0.13 in /Users/k.v.stan/opt/anaconda3/envs/X/lib/python3.10/site-packages (from httpcore<0.17.0,>=0.15.0->httpx<1.0.0,>=0.17.0->twitch-dl) (0.14.0)\n",
      "Requirement already satisfied: anyio<5.0,>=3.0 in /Users/k.v.stan/opt/anaconda3/envs/X/lib/python3.10/site-packages (from httpcore<0.17.0,>=0.15.0->httpx<1.0.0,>=0.17.0->twitch-dl) (3.6.2)\n",
      "Requirement already satisfied: idna in /Users/k.v.stan/opt/anaconda3/envs/X/lib/python3.10/site-packages (from rfc3986[idna2008]<2,>=1.3->httpx<1.0.0,>=0.17.0->twitch-dl) (3.4)\n",
      "\u001b[2mLooking up video...\u001b[0m\n",
      "Found: \u001b[94m💀 DROPS🔥SKELETON QUEEN! 💀 !socials -> my social links\u001b[0m by \u001b[93meugeniacooney\u001b[0m\n",
      "Output: \u001b[94meugeniacooney/1841605183.mkv\u001b[0m\n",
      "\u001b[2mFetching access token...\u001b[0m\n",
      "\u001b[2mFetching playlists...\u001b[0m\n",
      "\u001b[2mFetching playlist...\u001b[0m\n",
      "\n",
      "Downloading 522 VODs using 5 workers to /var/folders/ls/8prlm3111650ppyfdlqjkqmc0000gn/T/twitch-dl/0a60eeb1c16a2c877f3d_eugeniacooney_48640886045_1686289094/audio_only\n",
      "Downloaded 521/522 VODs \u001b[94m99%\u001b[0m of \u001b[94m~124.4MB\u001b[0m at \u001b[94m2.5MB/s\u001b[0m ETA \u001b[94m00:00\u001b[0m     \n",
      "\n",
      "Joining files...\n",
      "\u001b[2mffmpeg -i /var/folders/ls/8prlm3111650ppyfdlqjkqmc0000gn/T/twitch-dl/0a60eeb1c16a2c877f3d_eugeniacooney_48640886045_1686289094/audio_only/playlist_downloaded.m3u8 -c copy -metadata artist=eugeniacooney -metadata title=💀 DROPS🔥SKELETON QUEEN! 💀 !socials -> my social links -metadata encoded_by=twitch-dl -stats -loglevel warning file:eugeniacooney/1841605183.mkv\u001b[0m\n"
     ]
    },
    {
     "name": "stderr",
     "output_type": "stream",
     "text": [
      "size=  103200kB time=01:26:54.24 bitrate= 162.1kbits/s speed=3.22e+03x    \n"
     ]
    },
    {
     "name": "stdout",
     "output_type": "stream",
     "text": [
      "\n",
      "\u001b[2mDeleting temporary files...\u001b[0m\n",
      "\n",
      "Downloaded: \u001b[92meugeniacooney/1841605183.mkv\u001b[0m\n",
      "\u001b[2mLooking up video...\u001b[0m\n",
      "Found: \u001b[94m💀 DROPS🔥SKELETON QUEEN 💀💀 best necromancer ever ☠️ !socials -> my social links\u001b[0m by \u001b[93meugeniacooney\u001b[0m\n",
      "Output: \u001b[94meugeniacooney/1840782443.mkv\u001b[0m\n",
      "\u001b[2mFetching access token...\u001b[0m\n",
      "\u001b[2mFetching playlists...\u001b[0m\n",
      "\u001b[2mFetching playlist...\u001b[0m\n",
      "\n",
      "Downloading 1256 VODs using 5 workers to /var/folders/ls/8prlm3111650ppyfdlqjkqmc0000gn/T/twitch-dl/e495542df51ef3c3240f_eugeniacooney_48634567053_1686208679/audio_only\n",
      "Downloaded 1255/1256 VODs \u001b[94m100%\u001b[0m of \u001b[94m~301.3MB\u001b[0m at \u001b[94m2.7MB/s\u001b[0m ETA \u001b[94m00:00\u001b[0m     \n",
      "\n",
      "Joining files...\n",
      "\u001b[2mffmpeg -i /var/folders/ls/8prlm3111650ppyfdlqjkqmc0000gn/T/twitch-dl/e495542df51ef3c3240f_eugeniacooney_48634567053_1686208679/audio_only/playlist_downloaded.m3u8 -c copy -metadata artist=eugeniacooney -metadata title=💀 DROPS🔥SKELETON QUEEN 💀💀 best necromancer ever ☠️ !socials -> my social links -metadata encoded_by=twitch-dl -stats -loglevel warning file:eugeniacooney/1840782443.mkv\u001b[0m\n"
     ]
    },
    {
     "name": "stderr",
     "output_type": "stream",
     "text": [
      "size=  249987kB time=03:29:17.69 bitrate= 163.1kbits/s speed=3.26e+03x    \n"
     ]
    },
    {
     "name": "stdout",
     "output_type": "stream",
     "text": [
      "\n",
      "\u001b[2mDeleting temporary files...\u001b[0m\n",
      "\n",
      "Downloaded: \u001b[92meugeniacooney/1840782443.mkv\u001b[0m\n",
      "\u001b[2mLooking up video...\u001b[0m\n",
      "Found: \u001b[94m💀 DROPS🔥SKELETON QUEEN 💀💀 best necromancer ever ☠️ !socials -> my social links\u001b[0m by \u001b[93meugeniacooney\u001b[0m\n",
      "Output: \u001b[94meugeniacooney/1840774657.mkv\u001b[0m\n",
      "\u001b[2mFetching access token...\u001b[0m\n",
      "\u001b[2mFetching playlists...\u001b[0m\n",
      "\u001b[2mFetching playlist...\u001b[0m\n",
      "\n",
      "Downloading 106 VODs using 5 workers to /var/folders/ls/8prlm3111650ppyfdlqjkqmc0000gn/T/twitch-dl/7f29f1e771dde6ee270a_eugeniacooney_48634519037_1686207261/audio_only\n",
      "Downloaded 105/106 VODs \u001b[94m100%\u001b[0m of \u001b[94m~25.3MB\u001b[0m at \u001b[94m2.5MB/s\u001b[0m ETA \u001b[94m00:00\u001b[0m     \n",
      "\n",
      "Joining files...\n",
      "\u001b[2mffmpeg -i /var/folders/ls/8prlm3111650ppyfdlqjkqmc0000gn/T/twitch-dl/7f29f1e771dde6ee270a_eugeniacooney_48634519037_1686207261/audio_only/playlist_downloaded.m3u8 -c copy -metadata artist=eugeniacooney -metadata title=💀 DROPS🔥SKELETON QUEEN 💀💀 best necromancer ever ☠️ !socials -> my social links -metadata encoded_by=twitch-dl -stats -loglevel warning file:eugeniacooney/1840774657.mkv\u001b[0m\n"
     ]
    },
    {
     "name": "stderr",
     "output_type": "stream",
     "text": [
      "size=   21098kB time=00:17:40.31 bitrate= 163.0kbits/s speed=2.97e+03x    \n"
     ]
    },
    {
     "name": "stdout",
     "output_type": "stream",
     "text": [
      "\n",
      "\u001b[2mDeleting temporary files...\u001b[0m\n",
      "\n",
      "Downloaded: \u001b[92meugeniacooney/1840774657.mkv\u001b[0m\n",
      "\u001b[2mLooking up video...\u001b[0m\n",
      "Found: \u001b[94m💀 DROPS🔥SKELETON QUEEN 💀💀 best necromancer ever ☠️ !socials -> my social links\u001b[0m by \u001b[93meugeniacooney\u001b[0m\n",
      "Output: \u001b[94meugeniacooney/1840750299.mkv\u001b[0m\n",
      "\u001b[2mFetching access token...\u001b[0m\n",
      "\u001b[2mFetching playlists...\u001b[0m\n",
      "\u001b[2mFetching playlist...\u001b[0m\n",
      "\n",
      "Downloading 410 VODs using 5 workers to /var/folders/ls/8prlm3111650ppyfdlqjkqmc0000gn/T/twitch-dl/9f6005f19306a57daf3c_eugeniacooney_48634320829_1686203015/audio_only\n",
      "Downloaded 405/410 VODs \u001b[94m98%\u001b[0m of \u001b[94m~97.5MB\u001b[0m at \u001b[94m2.3MB/s\u001b[0m ETA \u001b[94m00:00\u001b[0m     \n",
      "\n",
      "Joining files...\n",
      "\u001b[2mffmpeg -i /var/folders/ls/8prlm3111650ppyfdlqjkqmc0000gn/T/twitch-dl/9f6005f19306a57daf3c_eugeniacooney_48634320829_1686203015/audio_only/playlist_downloaded.m3u8 -c copy -metadata artist=eugeniacooney -metadata title=💀 DROPS🔥SKELETON QUEEN 💀💀 best necromancer ever ☠️ !socials -> my social links -metadata encoded_by=twitch-dl -stats -loglevel warning file:eugeniacooney/1840750299.mkv\u001b[0m\n"
     ]
    },
    {
     "name": "stderr",
     "output_type": "stream",
     "text": [
      "size=   79791kB time=01:08:12.45 bitrate= 159.7kbits/s speed=3.18e+03x    \n"
     ]
    },
    {
     "name": "stdout",
     "output_type": "stream",
     "text": [
      "\n",
      "\u001b[2mDeleting temporary files...\u001b[0m\n",
      "\n",
      "Downloaded: \u001b[92meugeniacooney/1840750299.mkv\u001b[0m\n",
      "\u001b[2mLooking up video...\u001b[0m\n",
      "Found: \u001b[94m🔥 DROPS🔥the skeleton QUEEN💀 !socials -> my social links\u001b[0m by \u001b[93meugeniacooney\u001b[0m\n",
      "Output: \u001b[94meugeniacooney/1839668080.mkv\u001b[0m\n",
      "\u001b[2mFetching access token...\u001b[0m\n",
      "\u001b[2mFetching playlists...\u001b[0m\n",
      "\u001b[2mFetching playlist...\u001b[0m\n",
      "\n",
      "Downloading 2639 VODs using 5 workers to /var/folders/ls/8prlm3111650ppyfdlqjkqmc0000gn/T/twitch-dl/ddba617886b7306d1734_eugeniacooney_46925799948_1686096108/audio_only\n",
      "Downloaded 2638/2639 VODs \u001b[94m100%\u001b[0m of \u001b[94m~633.5MB\u001b[0m at \u001b[94m1.3MB/s\u001b[0m ETA \u001b[94m00:00\u001b[0m     \n",
      "\n",
      "Joining files...\n",
      "\u001b[2mffmpeg -i /var/folders/ls/8prlm3111650ppyfdlqjkqmc0000gn/T/twitch-dl/ddba617886b7306d1734_eugeniacooney_46925799948_1686096108/audio_only/playlist_downloaded.m3u8 -c copy -metadata artist=eugeniacooney -metadata title=🔥 DROPS🔥the skeleton QUEEN💀 !socials -> my social links -metadata encoded_by=twitch-dl -stats -loglevel warning file:eugeniacooney/1839668080.mkv\u001b[0m\n"
     ]
    },
    {
     "name": "stderr",
     "output_type": "stream",
     "text": [
      "size=  525298kB time=07:19:49.22 bitrate= 163.1kbits/s speed=2.44e+03x    \n"
     ]
    },
    {
     "name": "stdout",
     "output_type": "stream",
     "text": [
      "\n",
      "\u001b[2mDeleting temporary files...\u001b[0m\n",
      "\n",
      "Downloaded: \u001b[92meugeniacooney/1839668080.mkv\u001b[0m\n",
      "\u001b[2mLooking up video...\u001b[0m\n",
      "Found: \u001b[94m🔥 DROPS ON 🔥 diablo release yay 💀 !socials -> my social links\u001b[0m by \u001b[93meugeniacooney\u001b[0m\n",
      "Output: \u001b[94meugeniacooney/1838848803.mkv\u001b[0m\n",
      "\u001b[2mFetching access token...\u001b[0m\n",
      "\u001b[2mFetching playlists...\u001b[0m\n",
      "\u001b[2mFetching playlist...\u001b[0m\n",
      "\n",
      "Downloading 3279 VODs using 5 workers to /var/folders/ls/8prlm3111650ppyfdlqjkqmc0000gn/T/twitch-dl/ae671feebb4a0d26209a_eugeniacooney_46923595116_1686012565/audio_only\n",
      "Downloaded 3278/3279 VODs \u001b[94m100%\u001b[0m of \u001b[94m~785.9MB\u001b[0m at \u001b[94m1.2MB/s\u001b[0m ETA \u001b[94m00:00\u001b[0m       \n",
      "\n",
      "Joining files...\n",
      "\u001b[2mffmpeg -i /var/folders/ls/8prlm3111650ppyfdlqjkqmc0000gn/T/twitch-dl/ae671feebb4a0d26209a_eugeniacooney_46923595116_1686012565/audio_only/playlist_downloaded.m3u8 -c copy -metadata artist=eugeniacooney -metadata title=🔥 DROPS ON 🔥 diablo release yay 💀 !socials -> my social links -metadata encoded_by=twitch-dl -stats -loglevel warning file:eugeniacooney/1838848803.mkv\u001b[0m\n"
     ]
    },
    {
     "name": "stderr",
     "output_type": "stream",
     "text": [
      "size=  652395kB time=09:06:30.03 bitrate= 163.0kbits/s speed=2.87e+03x    \n"
     ]
    },
    {
     "name": "stdout",
     "output_type": "stream",
     "text": [
      "\n",
      "\u001b[2mDeleting temporary files...\u001b[0m\n",
      "\n",
      "Downloaded: \u001b[92meugeniacooney/1838848803.mkv\u001b[0m\n",
      "\u001b[2mLooking up video...\u001b[0m\n",
      "Found: \u001b[94m🔥 DIABLO IV 🔥 DROPS ON 🔥!socials | !tts | !tiktok | !youtube |instagram\u001b[0m by \u001b[93meugeniacooney\u001b[0m\n",
      "Output: \u001b[94meugeniacooney/1835403551.mkv\u001b[0m\n",
      "\u001b[2mFetching access token...\u001b[0m\n",
      "\u001b[2mFetching playlists...\u001b[0m\n",
      "\u001b[2mFetching playlist...\u001b[0m\n",
      "\n",
      "Downloading 1767 VODs using 5 workers to /var/folders/ls/8prlm3111650ppyfdlqjkqmc0000gn/T/twitch-dl/eb725c393ca8a2db2996_eugeniacooney_48591753437_1685671091/audio_only\n",
      "Downloaded 1765/1767 VODs \u001b[94m99%\u001b[0m of \u001b[94m~421.7MB\u001b[0m at \u001b[94m2.1MB/s\u001b[0m ETA \u001b[94m00:00\u001b[0m     \n",
      "\n",
      "Joining files...\n",
      "\u001b[2mffmpeg -i /var/folders/ls/8prlm3111650ppyfdlqjkqmc0000gn/T/twitch-dl/eb725c393ca8a2db2996_eugeniacooney_48591753437_1685671091/audio_only/playlist_downloaded.m3u8 -c copy -metadata artist=eugeniacooney -metadata title=🔥 DIABLO IV 🔥 DROPS ON 🔥!socials | !tts | !tiktok | !youtube |instagram -metadata encoded_by=twitch-dl -stats -loglevel warning file:eugeniacooney/1835403551.mkv\u001b[0m\n"
     ]
    },
    {
     "name": "stderr",
     "output_type": "stream",
     "text": [
      "size=  349749kB time=04:54:27.43 bitrate= 162.2kbits/s speed=3.42e+03x    \n"
     ]
    },
    {
     "name": "stdout",
     "output_type": "stream",
     "text": [
      "\n",
      "\u001b[2mDeleting temporary files...\u001b[0m\n",
      "\n",
      "Downloaded: \u001b[92meugeniacooney/1835403551.mkv\u001b[0m\n",
      "\u001b[2mLooking up video...\u001b[0m\n",
      "Found: \u001b[94mHANGING OUT💖!socials - my social links\u001b[0m by \u001b[93meugeniacooney\u001b[0m\n",
      "Output: \u001b[94meugeniacooney/1834433756.mkv\u001b[0m\n",
      "\u001b[2mFetching access token...\u001b[0m\n",
      "\u001b[2mFetching playlists...\u001b[0m\n",
      "\u001b[2mFetching playlist...\u001b[0m\n",
      "\n",
      "Downloading 1712 VODs using 5 workers to /var/folders/ls/8prlm3111650ppyfdlqjkqmc0000gn/T/twitch-dl/3e7c9d08915a44e7fe39_eugeniacooney_48585073517_1685575990/audio_only\n",
      "Downloaded 1709/1712 VODs \u001b[94m99%\u001b[0m of \u001b[94m~408.2MB\u001b[0m at \u001b[94m2.4MB/s\u001b[0m ETA \u001b[94m00:00\u001b[0m     \n",
      "\n",
      "Joining files...\n",
      "\u001b[2mffmpeg -i /var/folders/ls/8prlm3111650ppyfdlqjkqmc0000gn/T/twitch-dl/3e7c9d08915a44e7fe39_eugeniacooney_48585073517_1685575990/audio_only/playlist_downloaded.m3u8 -c copy -metadata artist=eugeniacooney -metadata title=HANGING OUT💖!socials - my social links -metadata encoded_by=twitch-dl -stats -loglevel warning file:eugeniacooney/1834433756.mkv\u001b[0m\n"
     ]
    },
    {
     "name": "stderr",
     "output_type": "stream",
     "text": [
      "size=  340452kB time=04:45:14.68 bitrate= 163.0kbits/s speed=3.4e+03x     \n"
     ]
    },
    {
     "name": "stdout",
     "output_type": "stream",
     "text": [
      "\n",
      "\u001b[2mDeleting temporary files...\u001b[0m\n",
      "\n",
      "Downloaded: \u001b[92meugeniacooney/1834433756.mkv\u001b[0m\n"
     ]
    }
   ],
   "source": [
    "import os\n",
    "import subprocess\n",
    "import re\n",
    "import time\n",
    "\n",
    "# Install twitch-dl if not already installed\n",
    "subprocess.run([\"pip\", \"install\", \"twitch-dl\"])\n",
    "\n",
    "# Get the list of videos for a given streamer\n",
    "streamer = \"eugeniacooney\"  # replace with the actual streamer name\n",
    "result = subprocess.run([\"twitch-dl\", \"videos\", streamer], capture_output=True, text=True)\n",
    "\n",
    "# Extract video IDs from the output\n",
    "video_ids = re.findall(r'Video (\\d+)', result.stdout)\n",
    "\n",
    "# Load the list of downloaded videos\n",
    "downloaded_videos_file = f\"{streamer}/downloaded_videos.txt\"\n",
    "if os.path.exists(downloaded_videos_file):\n",
    "    with open(downloaded_videos_file, \"r\") as f:\n",
    "        downloaded_videos = f.read().splitlines()\n",
    "else:\n",
    "    downloaded_videos = []\n",
    "\n",
    "# Create directory for the streamer if it doesn't exist\n",
    "if not os.path.exists(streamer):\n",
    "    os.makedirs(streamer)\n",
    "\n",
    "# Download each video\n",
    "for video_id in video_ids:\n",
    "    if video_id not in downloaded_videos:\n",
    "        output_file = f\"{streamer}/{video_id}.mkv\"\n",
    "        subprocess.run([\"twitch-dl\", \"download\", \"-q\", \"audio_only\", \"-o\", output_file, video_id])\n",
    "        # Add the video ID to the list of downloaded videos\n",
    "        with open(downloaded_videos_file, \"a\") as f:\n",
    "            f.write(video_id + \"\\n\")\n",
    "        # Sleep for 10 minutes\n",
    "        time.sleep(100)\n"
   ]
  },
  {
   "cell_type": "code",
   "execution_count": null,
   "metadata": {},
   "outputs": [],
   "source": []
  }
 ],
 "metadata": {
  "kernelspec": {
   "display_name": "X",
   "language": "python",
   "name": "python3"
  },
  "language_info": {
   "codemirror_mode": {
    "name": "ipython",
    "version": 3
   },
   "file_extension": ".py",
   "mimetype": "text/x-python",
   "name": "python",
   "nbconvert_exporter": "python",
   "pygments_lexer": "ipython3",
   "version": "3.10.9"
  },
  "orig_nbformat": 4
 },
 "nbformat": 4,
 "nbformat_minor": 2
}
