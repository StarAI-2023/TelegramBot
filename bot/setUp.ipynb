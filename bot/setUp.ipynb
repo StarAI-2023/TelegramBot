{
 "cells": [
  {
   "cell_type": "code",
   "execution_count": 15,
   "metadata": {},
   "outputs": [],
   "source": [
    "\n",
    "# Script to clone a voice from a set of voice samples\n",
    "# Remember to save the voice id\n",
    "\n",
    "from elevenlabs import clone, generate, play, set_api_key\n",
    "import config\n",
    "import os\n",
    "\n",
    "\n",
    "class VoiceClone:\n",
    "    def __init__(self, voice_name, voice_description, voice_samples_path) -> None:\n",
    "        set_api_key(config.voice_clone_api_key)\n",
    "        self.voice_samples_path = voice_samples_path\n",
    "        self.voice = clone(\n",
    "            name=voice_name,\n",
    "            description=voice_description,\n",
    "            files=self.getVoiceSamplesFiles(),\n",
    "        )\n",
    "        print(f\"{self.voice} is created, with description: {voice_description} and name: {voice_name}. Remeber to store the voice id!!!\")\n",
    "        \n",
    "        # # low stability will make the voice fluctuate more, thus more emotional\n",
    "        # self.voice.settings.stability = 0.23\n",
    "        # self.voice.settings.similarity_boost = 0.9\n",
    "\n",
    "    def getVoiceSamplesFiles(\n",
    "        self,\n",
    "    ) -> list:\n",
    "        file_list = []\n",
    "\n",
    "        # Check if the directory exists\n",
    "        if os.path.exists(self.voice_samples_path):\n",
    "            # Iterate over all files in the directory\n",
    "            for file_name in os.listdir(self.voice_samples_path):\n",
    "                file_path = os.path.join(self.voice_samples_path, file_name)\n",
    "                if os.path.isfile(file_path):\n",
    "                    file_list.append(file_path)\n",
    "        else:\n",
    "            print(\n",
    "                \"Directory path does not exist, and current directory is:\" + os.getcwd()\n",
    "            )\n",
    "            raise\n",
    "\n",
    "        return file_list\n"
   ]
  },
  {
   "cell_type": "code",
   "execution_count": 16,
   "metadata": {},
   "outputs": [
    {
     "ename": "APIError",
     "evalue": "File .DS_Store_140472021317968 is corrupted. Please ensure it is playable audio.",
     "output_type": "error",
     "traceback": [
      "\u001b[0;31m---------------------------------------------------------------------------\u001b[0m",
      "\u001b[0;31mAPIError\u001b[0m                                  Traceback (most recent call last)",
      "Cell \u001b[0;32mIn[16], line 1\u001b[0m\n\u001b[0;32m----> 1\u001b[0m voice_clone \u001b[39m=\u001b[39m VoiceClone(voice_name\u001b[39m=\u001b[39;49m\u001b[39m\"\u001b[39;49m\u001b[39mEugenia Cooney\u001b[39;49m\u001b[39m\"\u001b[39;49m, voice_description\u001b[39m=\u001b[39;49m\u001b[39m\"\u001b[39;49m\u001b[39mEugenia Cooney\u001b[39;49m\u001b[39m\"\u001b[39;49m, voice_samples_path\u001b[39m=\u001b[39;49m\u001b[39m\"\u001b[39;49m\u001b[39mvoice_samples/Eugenia_Cooney\u001b[39;49m\u001b[39m\"\u001b[39;49m)\n",
      "Cell \u001b[0;32mIn[15], line 13\u001b[0m, in \u001b[0;36mVoiceClone.__init__\u001b[0;34m(self, voice_name, voice_description, voice_samples_path)\u001b[0m\n\u001b[1;32m     11\u001b[0m set_api_key(config\u001b[39m.\u001b[39mvoice_clone_api_key)\n\u001b[1;32m     12\u001b[0m \u001b[39mself\u001b[39m\u001b[39m.\u001b[39mvoice_samples_path \u001b[39m=\u001b[39m voice_samples_path\n\u001b[0;32m---> 13\u001b[0m \u001b[39mself\u001b[39m\u001b[39m.\u001b[39mvoice \u001b[39m=\u001b[39m clone(\n\u001b[1;32m     14\u001b[0m     name\u001b[39m=\u001b[39;49mvoice_name,\n\u001b[1;32m     15\u001b[0m     description\u001b[39m=\u001b[39;49mvoice_description,\n\u001b[1;32m     16\u001b[0m     files\u001b[39m=\u001b[39;49m\u001b[39mself\u001b[39;49m\u001b[39m.\u001b[39;49mgetVoiceSamplesFiles(),\n\u001b[1;32m     17\u001b[0m )\n\u001b[1;32m     18\u001b[0m \u001b[39mprint\u001b[39m(\u001b[39mf\u001b[39m\u001b[39m\"\u001b[39m\u001b[39m{\u001b[39;00m\u001b[39mself\u001b[39m\u001b[39m.\u001b[39mvoice\u001b[39m}\u001b[39;00m\u001b[39m is created, with description: \u001b[39m\u001b[39m{\u001b[39;00mvoice_description\u001b[39m}\u001b[39;00m\u001b[39m and name: \u001b[39m\u001b[39m{\u001b[39;00mvoice_name\u001b[39m}\u001b[39;00m\u001b[39m. Remeber to store the voice id!!!\u001b[39m\u001b[39m\"\u001b[39m)\n",
      "File \u001b[0;32m~/opt/anaconda3/envs/X/lib/python3.10/site-packages/elevenlabs/simple.py:84\u001b[0m, in \u001b[0;36mclone\u001b[0;34m(**kwargs)\u001b[0m\n\u001b[1;32m     83\u001b[0m \u001b[39mdef\u001b[39;00m \u001b[39mclone\u001b[39m(\u001b[39m*\u001b[39m\u001b[39m*\u001b[39mkwargs) \u001b[39m-\u001b[39m\u001b[39m>\u001b[39m Voice:\n\u001b[0;32m---> 84\u001b[0m     \u001b[39mreturn\u001b[39;00m Voice\u001b[39m.\u001b[39;49mfrom_clone(VoiceClone(\u001b[39m*\u001b[39;49m\u001b[39m*\u001b[39;49mkwargs))\n",
      "File \u001b[0;32m~/opt/anaconda3/envs/X/lib/python3.10/site-packages/elevenlabs/api/voice.py:109\u001b[0m, in \u001b[0;36mVoice.from_clone\u001b[0;34m(cls, voice_clone)\u001b[0m\n\u001b[1;32m    107\u001b[0m files \u001b[39m=\u001b[39m data\u001b[39m.\u001b[39mpop(\u001b[39m\"\u001b[39m\u001b[39m_files_tuple\u001b[39m\u001b[39m\"\u001b[39m)\n\u001b[1;32m    108\u001b[0m \u001b[39mtry\u001b[39;00m:\n\u001b[0;32m--> 109\u001b[0m     voice_id \u001b[39m=\u001b[39m API\u001b[39m.\u001b[39;49mpost(url, data\u001b[39m=\u001b[39;49mdata, files\u001b[39m=\u001b[39;49mfiles)\u001b[39m.\u001b[39mjson()[\u001b[39m\"\u001b[39m\u001b[39mvoice_id\u001b[39m\u001b[39m\"\u001b[39m]\n\u001b[1;32m    110\u001b[0m \u001b[39mexcept\u001b[39;00m APIError \u001b[39mas\u001b[39;00m e:\n\u001b[1;32m    111\u001b[0m     \u001b[39mif\u001b[39;00m e\u001b[39m.\u001b[39mhttp_error\u001b[39m.\u001b[39mstatus \u001b[39m==\u001b[39m \u001b[39m\"\u001b[39m\u001b[39mcan_not_use_instant_voice_cloning\u001b[39m\u001b[39m\"\u001b[39m:\n",
      "File \u001b[0;32m~/opt/anaconda3/envs/X/lib/python3.10/site-packages/elevenlabs/api/base.py:65\u001b[0m, in \u001b[0;36mAPI.post\u001b[0;34m(url, *args, **kwargs)\u001b[0m\n\u001b[1;32m     63\u001b[0m \u001b[39m@staticmethod\u001b[39m\n\u001b[1;32m     64\u001b[0m \u001b[39mdef\u001b[39;00m \u001b[39mpost\u001b[39m(url: \u001b[39mstr\u001b[39m, \u001b[39m*\u001b[39margs, \u001b[39m*\u001b[39m\u001b[39m*\u001b[39mkwargs):\n\u001b[0;32m---> 65\u001b[0m     \u001b[39mreturn\u001b[39;00m API\u001b[39m.\u001b[39;49mrequest(url, method\u001b[39m=\u001b[39;49m\u001b[39m\"\u001b[39;49m\u001b[39mpost\u001b[39;49m\u001b[39m\"\u001b[39;49m, \u001b[39m*\u001b[39;49margs, \u001b[39m*\u001b[39;49m\u001b[39m*\u001b[39;49mkwargs)\n",
      "File \u001b[0;32m~/opt/anaconda3/envs/X/lib/python3.10/site-packages/elevenlabs/api/base.py:57\u001b[0m, in \u001b[0;36mAPI.request\u001b[0;34m(url, method, api_key, **kwargs)\u001b[0m\n\u001b[1;32m     54\u001b[0m     \u001b[39melif\u001b[39;00m error\u001b[39m.\u001b[39mstatus \u001b[39m==\u001b[39m \u001b[39m\"\u001b[39m\u001b[39mneeds_authorization\u001b[39m\u001b[39m\"\u001b[39m:\n\u001b[1;32m     55\u001b[0m         \u001b[39mraise\u001b[39;00m AuthorizationError(error)\n\u001b[0;32m---> 57\u001b[0m \u001b[39mraise\u001b[39;00m APIError(error)\n",
      "\u001b[0;31mAPIError\u001b[0m: File .DS_Store_140472021317968 is corrupted. Please ensure it is playable audio."
     ]
    }
   ],
   "source": [
    "voice_clone = VoiceClone(voice_name=\"Eugenia Cooney\", voice_description=\"Eugenia Cooney\", voice_samples_path=\"voice_samples/Eugenia_Cooney\")\n"
   ]
  },
  {
   "cell_type": "code",
   "execution_count": null,
   "metadata": {},
   "outputs": [],
   "source": []
  }
 ],
 "metadata": {
  "kernelspec": {
   "display_name": "X",
   "language": "python",
   "name": "python3"
  },
  "language_info": {
   "codemirror_mode": {
    "name": "ipython",
    "version": 3
   },
   "file_extension": ".py",
   "mimetype": "text/x-python",
   "name": "python",
   "nbconvert_exporter": "python",
   "pygments_lexer": "ipython3",
   "version": "3.10.9"
  },
  "orig_nbformat": 4
 },
 "nbformat": 4,
 "nbformat_minor": 2
}
