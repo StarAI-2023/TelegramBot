{
 "cells": [
  {
   "cell_type": "code",
   "execution_count": 1,
   "metadata": {},
   "outputs": [],
   "source": [
    "# Script to clone a voice from a set of voice samples\n",
    "# Remember to save the voice id\n",
    "\n",
    "from elevenlabs import clone, generate, play, set_api_key\n",
    "import config\n",
    "import os\n",
    "\n",
    "\n",
    "class VoiceClone:\n",
    "    def __init__(self, voice_name, voice_description, voice_samples_path) -> None:\n",
    "        set_api_key(config.voice_clone_api_key)\n",
    "        self.voice_samples_path = voice_samples_path\n",
    "        self.voice: Voice = clone(\n",
    "            name=voice_name,\n",
    "            description=voice_description,\n",
    "            files=self.getVoiceSamplesFiles(),\n",
    "        )\n",
    "        print(f\"{self.voice} is created, with description: {voice_description} and name: {voice_name}. Remeber to store the voice id!!!\")\n",
    "        \n",
    "        # # low stability will make the voice fluctuate more, thus more emotional\n",
    "        # self.voice.settings.stability = 0.23\n",
    "        # self.voice.settings.similarity_boost = 0.9\n",
    "\n",
    "    def getVoiceSamplesFiles(\n",
    "        self,\n",
    "    ) -> list:\n",
    "        file_list = []\n",
    "\n",
    "        # Check if the directory exists\n",
    "        if os.path.exists(self.voice_samples_path):\n",
    "            # Iterate over all files in the directory\n",
    "            for file_name in os.listdir(self.voice_samples_path):\n",
    "                file_path = os.path.join(self.voice_samples_path, file_name)\n",
    "                if os.path.isfile(file_path):\n",
    "                    file_list.append(file_path)\n",
    "        else:\n",
    "            print(\n",
    "                \"Directory path does not exist, and current directory is:\" + os.getcwd()\n",
    "            )\n",
    "            raise\n",
    "\n",
    "        return file_list"
   ]
  },
  {
   "cell_type": "code",
   "execution_count": 2,
   "metadata": {},
   "outputs": [
    {
     "name": "stdout",
     "output_type": "stream",
     "text": [
      "6BBs3y47iR73eAS9sR3y is created, with description: Eugenia Cooney and name: Eugenia Cooney. Remeber to store the voice id!!!\n"
     ]
    }
   ],
   "source": [
    "voice_clone = VoiceClone(voice_name=\"Eugenia Cooney\", voice_description=\"Eugenia Cooney\", voice_samples_path=\"voice_samples/Eugenia\")\n"
   ]
  },
  {
   "cell_type": "code",
   "execution_count": null,
   "metadata": {},
   "outputs": [],
   "source": []
  }
 ],
 "metadata": {
  "kernelspec": {
   "display_name": "X",
   "language": "python",
   "name": "python3"
  },
  "language_info": {
   "codemirror_mode": {
    "name": "ipython",
    "version": 3
   },
   "file_extension": ".py",
   "mimetype": "text/x-python",
   "name": "python",
   "nbconvert_exporter": "python",
   "pygments_lexer": "ipython3",
   "version": "3.11.4"
  },
  "orig_nbformat": 4
 },
 "nbformat": 4,
 "nbformat_minor": 2
}
